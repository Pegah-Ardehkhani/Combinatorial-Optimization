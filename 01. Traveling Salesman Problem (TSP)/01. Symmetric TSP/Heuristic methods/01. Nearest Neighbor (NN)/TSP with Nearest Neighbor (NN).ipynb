{
  "nbformat": 4,
  "nbformat_minor": 0,
  "metadata": {
    "colab": {
      "provenance": []
    },
    "kernelspec": {
      "name": "python3",
      "display_name": "Python 3"
    },
    "language_info": {
      "name": "python"
    }
  },
  "cells": [
    {
      "cell_type": "code",
      "source": [
        "import numpy as np\n",
        "import matplotlib.pyplot as plt\n",
        "\n",
        "def solve_tsp_with_nearest_neighbor(distance_matrix, start=1, show_route=True):\n",
        "    \"\"\"\n",
        "    Solve the TSP using the Nearest Neighbor heuristic.\n",
        "\n",
        "    Parameters:\n",
        "    - distance_matrix (2D list or numpy array): Matrix of distances between cities.\n",
        "    - start (int): The starting city (1-based index). Defaults to City 1.\n",
        "    - show_route (bool): Whether to display the route plot. Defaults to True.\n",
        "    \"\"\"\n",
        "    # Convert to 1-based indexing for cities\n",
        "    n = len(distance_matrix)\n",
        "    unvisited = set(range(1, n + 1))  # Cities indexed from 1 to n\n",
        "    tour = [start]  # Start from the specified city\n",
        "    current_city = start\n",
        "    unvisited.remove(current_city)\n",
        "    total_distance = 0\n",
        "\n",
        "    while unvisited:\n",
        "        # Find the nearest unvisited city\n",
        "        next_city = min(unvisited, key=lambda city: distance_matrix[current_city - 1][city - 1])\n",
        "        total_distance += distance_matrix[current_city - 1][next_city - 1]\n",
        "        tour.append(next_city)\n",
        "        unvisited.remove(next_city)\n",
        "        current_city = next_city\n",
        "\n",
        "    # Return to the starting city\n",
        "    total_distance += distance_matrix[current_city - 1][start - 1]\n",
        "    tour.append(start)\n",
        "\n",
        "    # Print results\n",
        "    print(\"Total Distance:\", total_distance, \"\\n\")\n",
        "    print(\"Tour:\", tour, \"\\n\")\n",
        "\n",
        "    # Plot the route if show_route is True\n",
        "    if show_route:\n",
        "        plot_route_linear(tour, total_distance)\n",
        "\n",
        "def plot_route_linear(tour, total_distance):\n",
        "    \"\"\"\n",
        "    Plots the route in a line for the TSP.\n",
        "\n",
        "    Parameters:\n",
        "    - tour (list): The sequence of cities in the order visited, e.g., [1, 3, 4, 2, 1].\n",
        "    - total_distance (float): Total distance of the tour.\n",
        "    \"\"\"\n",
        "    # Generate positions along a line for each city in the order of the tour\n",
        "    x_coords = list(range(1, len(tour) + 1))\n",
        "    y_coords = [1] * len(tour)  # Constant y-coordinate for a linear view\n",
        "\n",
        "    # Create a figure\n",
        "    plt.figure(figsize=(10, 2))\n",
        "    plt.title(f\"Nearest Neighbor TSP Route (Linear View)\\nTotal Distance: {total_distance}\")\n",
        "\n",
        "    # Plot each city in the order of the tour\n",
        "    plt.scatter(x_coords, y_coords, color='blue', s=100, zorder=5)\n",
        "\n",
        "    # Annotate each city with its index\n",
        "    for i, (x, y) in enumerate(zip(x_coords, y_coords)):\n",
        "        plt.text(x, y + 0.05, f'{tour[i]}', ha='center', color='darkred')\n",
        "\n",
        "    # Draw lines between cities in the order of the tour\n",
        "    for idx in range(len(tour) - 1):\n",
        "        plt.plot([x_coords[idx], x_coords[idx + 1]], [1, 1], color='green', linestyle='-', linewidth=2)\n",
        "\n",
        "    # Set plot limits and remove the y-axis for a clean linear view\n",
        "    plt.ylim(0.8, 1.2)\n",
        "    plt.xlabel(\"Cities\")\n",
        "    plt.gca().get_yaxis().set_visible(False)\n",
        "    plt.gca().get_xaxis().set_visible(False)\n",
        "    plt.show()\n",
        "\n",
        "\n",
        "# Example usage\n",
        "distance_matrix = [\n",
        "    [0, 10, 15, 20],\n",
        "    [10, 0, 35, 25],\n",
        "    [15, 35, 0, 30],\n",
        "    [20, 25, 30, 0]\n",
        "]\n",
        "\n",
        "# Call the function with the option to display the route\n",
        "solve_tsp_with_nearest_neighbor(distance_matrix, start=1, show_route=True)"
      ],
      "metadata": {
        "colab": {
          "base_uri": "https://localhost:8080/",
          "height": 303
        },
        "id": "RG6S23RLBNxQ",
        "outputId": "167abbf4-7b46-4181-f57e-6e61598f216e"
      },
      "execution_count": 1,
      "outputs": [
        {
          "output_type": "stream",
          "name": "stdout",
          "text": [
            "Total Distance: 80 \n",
            "\n",
            "Tour: [1, 2, 4, 3, 1] \n",
            "\n"
          ]
        },
        {
          "output_type": "display_data",
          "data": {
            "text/plain": [
              "<Figure size 1000x200 with 1 Axes>"
            ],
            "image/png": "[encoded data removed]"
          },
          "metadata": {}
        }
      ]
    }
  ]
}
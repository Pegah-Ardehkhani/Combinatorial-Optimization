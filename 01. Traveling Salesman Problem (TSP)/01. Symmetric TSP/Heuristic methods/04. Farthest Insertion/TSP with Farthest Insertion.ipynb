{
  "nbformat": 4,
  "nbformat_minor": 0,
  "metadata": {
    "colab": {
      "provenance": []
    },
    "kernelspec": {
      "name": "python3",
      "display_name": "Python 3"
    },
    "language_info": {
      "name": "python"
    }
  },
  "cells": [
    {
      "cell_type": "code",
      "execution_count": 4,
      "metadata": {
        "colab": {
          "base_uri": "https://localhost:8080/",
          "height": 303
        },
        "id": "iIPS4vG8x0pW",
        "outputId": "2eed5cef-572f-4af7-eb82-4f294337aedc"
      },
      "outputs": [
        {
          "output_type": "stream",
          "name": "stdout",
          "text": [
            "Total Distance: 175 \n",
            "\n",
            "Tour: [1, 2, 3, 4, 5, 1] \n",
            "\n"
          ]
        },
        {
          "output_type": "display_data",
          "data": {
            "text/plain": [
              "<Figure size 1000x200 with 1 Axes>"
            ],
            "image/png": "[encoded data removed]"
          },
          "metadata": {}
        }
      ],
      "source": [
        "import numpy as np\n",
        "import matplotlib.pyplot as plt\n",
        "\n",
        "def solve_tsp_with_farthest_insertion(distance_matrix, start=1, show_route=True):\n",
        "    \"\"\"\n",
        "    Solve the TSP using the Farthest Insertion heuristic.\n",
        "\n",
        "    Parameters:\n",
        "    - distance_matrix (2D list or numpy array): Matrix of distances between cities.\n",
        "    - start (int): The starting city (1-based index). Defaults to City 1.\n",
        "    - show_route (bool): Whether to display the route plot. Defaults to True.\n",
        "    \"\"\"\n",
        "    n = len(distance_matrix)\n",
        "    unvisited = set(range(1, n + 1))  # Cities indexed from 1 to n\n",
        "    tour = [start]  # Start from the specified city\n",
        "    unvisited.remove(start)\n",
        "\n",
        "    # Initialize by finding the farthest city from the starting city\n",
        "    farthest_city = max(unvisited, key=lambda city: distance_matrix[start - 1][city - 1])\n",
        "    tour.append(farthest_city)\n",
        "    unvisited.remove(farthest_city)\n",
        "\n",
        "    # Construct the tour by farthest insertion\n",
        "    while unvisited:\n",
        "        # Find the farthest unvisited city from any city in the current tour\n",
        "        next_city, max_dist = None, -float('inf')\n",
        "        for city in unvisited:\n",
        "            for in_tour_city in tour:\n",
        "                dist = distance_matrix[city - 1][in_tour_city - 1]\n",
        "                if dist > max_dist:\n",
        "                    next_city, max_dist = city, dist\n",
        "\n",
        "        # Find the best position to insert this city to minimize the increase in total distance\n",
        "        best_position, min_increase = None, float('inf')\n",
        "        for i in range(len(tour) - 1):\n",
        "            increase = (\n",
        "                distance_matrix[tour[i] - 1][next_city - 1]\n",
        "                + distance_matrix[next_city - 1][tour[i + 1] - 1]\n",
        "                - distance_matrix[tour[i] - 1][tour[i + 1] - 1]\n",
        "            )\n",
        "            if increase < min_increase:\n",
        "                best_position, min_increase = i + 1, increase\n",
        "\n",
        "        # Insert the next city at the best position\n",
        "        tour.insert(best_position, next_city)\n",
        "        unvisited.remove(next_city)\n",
        "\n",
        "    # Return to the starting city\n",
        "    tour.append(start)\n",
        "    total_distance = sum(distance_matrix[tour[i] - 1][tour[i + 1] - 1] for i in range(len(tour) - 1))\n",
        "\n",
        "    # Print results\n",
        "    print(\"Total Distance:\", total_distance, \"\\n\")\n",
        "    print(\"Tour:\", tour, \"\\n\")\n",
        "\n",
        "    # Plot the route if show_route is True\n",
        "    if show_route:\n",
        "        plot_route_linear(tour, total_distance)\n",
        "\n",
        "def plot_route_linear(tour, total_distance):\n",
        "    \"\"\"\n",
        "    Plots the route in a line for the TSP.\n",
        "\n",
        "    Parameters:\n",
        "    - tour (list): The sequence of cities in the order visited, e.g., [1, 3, 4, 2, 1].\n",
        "    - total_distance (float): Total distance of the tour.\n",
        "    \"\"\"\n",
        "    x_coords = list(range(1, len(tour) + 1))\n",
        "    y_coords = [1] * len(tour)  # Constant y-coordinate for a linear view\n",
        "\n",
        "    plt.figure(figsize=(10, 2))\n",
        "    plt.title(f\"Farthest Insertion TSP Route (Linear View)\\nTotal Distance: {total_distance}\")\n",
        "\n",
        "    plt.scatter(x_coords, y_coords, color='blue', s=100, zorder=5)\n",
        "\n",
        "    for i, (x, y) in enumerate(zip(x_coords, y_coords)):\n",
        "        plt.text(x, y + 0.05, f'{tour[i]}', ha='center', color='darkred')\n",
        "\n",
        "    for idx in range(len(tour) - 1):\n",
        "        plt.plot([x_coords[idx], x_coords[idx + 1]], [1, 1], color='green', linestyle='-', linewidth=2)\n",
        "\n",
        "    plt.ylim(0.8, 1.2)\n",
        "    plt.xlabel(\"Cities\")\n",
        "    plt.gca().get_yaxis().set_visible(False)\n",
        "    plt.gca().get_xaxis().set_visible(False)\n",
        "    plt.show()\n",
        "\n",
        "\n",
        "# Example usage\n",
        "if __name__ == \"__main__\":\n",
        "    distance_matrix = [\n",
        "        [0, 10, 35, 25, 60],\n",
        "        [10, 0, 30, 55, 20],\n",
        "        [35, 30, 0, 45, 50],\n",
        "        [25, 55, 45, 0, 30],\n",
        "        [60, 20, 50, 30, 0]\n",
        "    ]\n",
        "\n",
        "    solve_tsp_with_farthest_insertion(distance_matrix, start=1, show_route=True)"
      ]
    }
  ]
}